{
 "cells": [
  {
   "cell_type": "markdown",
   "metadata": {
    "colab_type": "text",
    "id": "view-in-github"
   },
   "source": [
    "<a href=\"https://colab.research.google.com/github/hsiuchun/NLP/blob/main/Semantic_Analysis_BERT_.ipynb\" target=\"_parent\"><img src=\"https://colab.research.google.com/assets/colab-badge.svg\" alt=\"Open In Colab\"/></a>"
   ]
  },
  {
   "cell_type": "markdown",
   "id": "ZpI-S9-Hp-En",
   "metadata": {
    "id": "ZpI-S9-Hp-En"
   },
   "source": [
    "# 情緒分析\n",
    "\n",
    "資料集: [Learning Word Vectors for Sentiment Analysis](https://aclanthology.org/P11-1015.pdf)\n",
    "\n",
    "程式碼參考自: [huggingface](https://huggingface.co/)\n",
    "\n",
    "> **資料集說明**\n",
    "\n",
    "Large Movie Review Dataset. This is a dataset for binary sentiment classification containing substantially more data than previous benchmark datasets. We provide a set of 25,000 highly polar movie reviews for training, and 25,000 for testing. There is additional unlabeled data for use as well.\n",
    "\n",
    ">**本次介紹模型為BERT**\n",
    "\n",
    "[BERT: Pre-training of Deep Bidirectional Transformers for Language Understanding](https://github.com/google-research/bert)\n",
    "\n",
    "程式碼參考自: [huggingface](https://huggingface.co/)\n",
    "\n",
    "![](https://i.imgur.com/spiKPbQ.png)\n",
    "\n",
    "[可搭配李宏毅大大的說明影片食用](https://youtu.be/UYPa347-DdE)\n",
    "\n",
    "**訓練一個BERT分類模型，輸入是一句話，辨識出這句話的情緒傾向。**"
   ]
  },
  {
   "cell_type": "markdown",
   "id": "sAaBnWzTXyQ_",
   "metadata": {
    "id": "sAaBnWzTXyQ_"
   },
   "source": [
    "## 定義你的 Hyperparameters\n",
    "\n",
    "* 如果電腦的記憶體不夠可以試著減少 batch_size\n",
    "* 因為我們採用現有的模型去fine-tune，所以一般不需要設太多 epochs\n",
    "* config 就是我們所使用的現有模型，可以自己找適合的做替換\n",
    "* 這次是做二分類所以 num_class 是 2\n",
    "* 如果你的模型 overfit 了，可以把 dropout 調高\n",
    "* 可以試著調高或調低 learning_rate，這會影響他的學習速度（跨步的大小）\n",
    "* 你應該先檢閱你的資料再來決定 max_len （但 BERT 最大只吃到 512）"
   ]
  },
  {
   "cell_type": "code",
   "execution_count": 1,
   "id": "Jaui0JY50LR_",
   "metadata": {
    "id": "Jaui0JY50LR_"
   },
   "outputs": [],
   "source": [
    "from datetime import datetime\n",
    "parameters = {\n",
    "    \"num_class\": 8,\n",
    "    \"time\": str(datetime.now()).replace(\" \", \"_\"),\n",
    "    \"seed\": 1111,\n",
    "    # Hyperparameters\n",
    "    \"model_name\": 'BERT',\n",
    "    \"config\": 'bert-base-uncased',\n",
    "    \"learning_rate\": 2e-4,\n",
    "    \"epochs\": 1,\n",
    "    \"max_len\": 512,\n",
    "    \"batch_size\": 16,\n",
    "    \"dropout\": 0.1,\n",
    "    \"activation\": 'Prelu',\n",
    "    \"hidden_dim\": 384,\n",
    "}"
   ]
  },
  {
   "cell_type": "markdown",
   "id": "6Y3gm_UxqEr1",
   "metadata": {
    "id": "6Y3gm_UxqEr1"
   },
   "source": [
    "## 資料集準備\n",
    "\n",
    "- 資料集說明 :\n",
    "  - text: a string feature.\n",
    "  - label: a classification label, with possible values including neg (0), pos (1)."
   ]
  },
  {
   "cell_type": "markdown",
   "id": "ioYB1sE_XyRA",
   "metadata": {
    "id": "ioYB1sE_XyRA"
   },
   "source": [
    "### 載入資料\n",
    "\n",
    "安裝 huggingface 的 dataset 套件（可以直接透過 pip 安裝是不是很方便）"
   ]
  },
  {
   "cell_type": "markdown",
   "id": "07XTeYjcTen9",
   "metadata": {
    "id": "07XTeYjcTen9"
   },
   "source": [
    "看一下資料格式長怎樣"
   ]
  },
  {
   "cell_type": "markdown",
   "id": "6JN_QzdbSR2I",
   "metadata": {
    "id": "6JN_QzdbSR2I"
   },
   "source": [
    "結合 huggingface 上 imdb 的介紹 及圖 2，我們可以發現 unsupervised 的資料是沒有正負向標籤的，因此本次只採用 train 與 test 資料。\n",
    "\n",
    "在這步驟，我們需要將原資料重新進行分割。將 train 與 test 資料合併後切割成 3:1:1 或是 8:1:1 的一組新的 train/val/test 資料集。\n",
    "\n",
    "把資料拿出來後，將train及test合併，重新切割後，儲存下來。\n",
    "\n",
    "\n",
    "---\n",
    "\n",
    "\n",
    "作者於此處將資料合併重切，是為了得到驗證集和增加訓練筆數。當然也可以直接從測試集直接 sample 驗證集，每個人的作法不一定相同～但若要與其他模型比較，需採用一致的測試集。"
   ]
  },
  {
   "cell_type": "code",
   "execution_count": 2,
   "id": "628ec85e",
   "metadata": {},
   "outputs": [
    {
     "name": "stdout",
     "output_type": "stream",
     "text": [
      "         tweet_id identification\n",
      "0        0x28cc61           test\n",
      "1        0x29e452          train\n",
      "2        0x2b3819          train\n",
      "3        0x2db41f           test\n",
      "4        0x2a2acc          train\n",
      "...           ...            ...\n",
      "1867530  0x227e25          train\n",
      "1867531  0x293813          train\n",
      "1867532  0x1e1a7e          train\n",
      "1867533  0x2156a5          train\n",
      "1867534  0x2bb9d2          train\n",
      "\n",
      "[1867535 rows x 2 columns]\n",
      "(1867535, 2)\n",
      "========================================\n",
      "         tweet_id       emotion\n",
      "0        0x3140b1       sadness\n",
      "1        0x368b73       disgust\n",
      "2        0x296183  anticipation\n",
      "3        0x2bd6e1           joy\n",
      "4        0x2ee1dd  anticipation\n",
      "...           ...           ...\n",
      "1455558  0x38dba0           joy\n",
      "1455559  0x300ea2           joy\n",
      "1455560  0x360b99          fear\n",
      "1455561  0x22eecf           joy\n",
      "1455562  0x2fb282  anticipation\n",
      "\n",
      "[1455563 rows x 2 columns]\n",
      "(1455563, 2)\n",
      "========================================\n",
      "              id   emotion\n",
      "0       0x2c7743  surprise\n",
      "1       0x2c1eed  surprise\n",
      "2       0x2826ea  surprise\n",
      "3       0x356d9a  surprise\n",
      "4       0x20fd95  surprise\n",
      "...          ...       ...\n",
      "411967  0x351857  surprise\n",
      "411968  0x2c028e  surprise\n",
      "411969  0x1f2430  surprise\n",
      "411970  0x2be24e  surprise\n",
      "411971  0x35802a  surprise\n",
      "\n",
      "[411972 rows x 2 columns]\n",
      "========================================\n",
      "Show ids of train and test\n",
      "\n",
      "1455563\n",
      "411972\n",
      "1867535\n",
      "After expand the tweet_id, tweet_hashtag...\n",
      "\n",
      "After saperate train and test:\n",
      "\n",
      "(1455563, 8)\n",
      "(411972, 8)\n"
     ]
    }
   ],
   "source": [
    "import numpy as np\n",
    "import pandas as pd\n",
    "import torch\n",
    "import torch.nn as nn\n",
    "from sklearn.model_selection import train_test_split\n",
    "from sklearn.metrics import classification_report\n",
    "import transformers\n",
    "from transformers import AutoModel, BertTokenizerFast\n",
    "\n",
    "# specify GPU\n",
    "device = torch.device(\"cuda\")\n",
    "torch.cuda.is_available()\n",
    "\n",
    "import pandas as pd\n",
    "folder_name = 'dm-2024-isa-5810-lab-2-homework'\n",
    "data_identification = pd.read_csv(folder_name + '/data_identification.csv')\n",
    "emotion = pd.read_csv(folder_name + '/emotion.csv')\n",
    "sample_submission = pd.read_csv(folder_name + '/sampleSubmission.csv')\n",
    "\n",
    "print(data_identification)\n",
    "print(data_identification.shape)\n",
    "print(f\"{'='*40}\")\n",
    "print(emotion)\n",
    "print(emotion.shape)\n",
    "print(f\"{'='*40}\")\n",
    "print(sample_submission)\n",
    "print(f\"{'='*40}\")\n",
    "\n",
    "df_twitter = pd.read_json(folder_name + '/tweets_DM.json', lines=True)\n",
    "train_ids = data_identification[data_identification['identification'] == 'train']['tweet_id'].tolist()\n",
    "test_ids = data_identification[data_identification['identification'] == 'test']['tweet_id'].tolist()\n",
    "\n",
    "print(\"Show ids of train and test\\n\")\n",
    "print(len(train_ids))\n",
    "print(len(test_ids))\n",
    "print(len(train_ids) + len(test_ids))\n",
    "\n",
    "df_twitter_expanded = pd.json_normalize(df_twitter['_source'])\n",
    "\n",
    "print(\"After expand the tweet_id, tweet_hashtag...\\n\")\n",
    "df_twitter['tweet_id'] = df_twitter_expanded['tweet.tweet_id']\n",
    "df_twitter['text'] = df_twitter_expanded['tweet.text']\n",
    "df_twitter['hash_tags'] = df_twitter_expanded['tweet.hashtags']\n",
    "\n",
    "df_twitter_train = df_twitter[df_twitter['tweet_id'].isin(train_ids)]\n",
    "df_twitter_test = df_twitter[df_twitter['tweet_id'].isin(test_ids)]\n",
    "\n",
    "print(\"After saperate train and test:\\n\")\n",
    "print(df_twitter_train.shape)\n",
    "print(df_twitter_test.shape)\n",
    "\n",
    "df_twitter_train = pd.merge(df_twitter_train, emotion, on='tweet_id', how='left')"
   ]
  },
  {
   "cell_type": "markdown",
   "id": "c-1_Rgd2-jU-",
   "metadata": {
    "id": "c-1_Rgd2-jU-"
   },
   "source": [
    "### [Tokenizer 簡介](https://huggingface.co/docs/transformers/main_classes/tokenizer)\n",
    "\n",
    "這邊會先帶大家快速走一遍 Tokenzier 是怎麼做的"
   ]
  },
  {
   "cell_type": "code",
   "execution_count": 3,
   "id": "5eScmf2ZLaMn",
   "metadata": {
    "id": "5eScmf2ZLaMn"
   },
   "outputs": [],
   "source": [
    "from transformers import AutoTokenizer"
   ]
  },
  {
   "cell_type": "code",
   "execution_count": 4,
   "id": "QcLKMrma_BZ2",
   "metadata": {
    "id": "QcLKMrma_BZ2"
   },
   "outputs": [],
   "source": [
    "config_name = 'bert-base-uncased'\n",
    "tokenizer = AutoTokenizer.from_pretrained(config_name)"
   ]
  },
  {
   "cell_type": "code",
   "execution_count": 5,
   "id": "FNLzPgq3G91h",
   "metadata": {
    "colab": {
     "base_uri": "https://localhost:8080/"
    },
    "id": "FNLzPgq3G91h",
    "outputId": "c2ee415a-c915-4b3f-ae21-ae0dccc0cd97"
   },
   "outputs": [
    {
     "name": "stdout",
     "output_type": "stream",
     "text": [
      "['how', \"'\", 's', 'everything', 'going', '?']\n"
     ]
    }
   ],
   "source": [
    "sample_s = \"How's everything going?\"\n",
    "token = tokenizer.tokenize(sample_s)\n",
    "print(token)"
   ]
  },
  {
   "cell_type": "code",
   "execution_count": 6,
   "id": "p9iRaod8CybL",
   "metadata": {
    "colab": {
     "base_uri": "https://localhost:8080/"
    },
    "id": "p9iRaod8CybL",
    "outputId": "f8774fbb-be7e-4edd-9b3b-a125957e4601"
   },
   "outputs": [
    {
     "name": "stdout",
     "output_type": "stream",
     "text": [
      "[101, 2129, 1005, 1055, 2673, 2183, 1029, 102]\n"
     ]
    }
   ],
   "source": [
    "sample_s = \"How's everything going?\"\n",
    "ids = tokenizer.encode(sample_s)\n",
    "print(ids)"
   ]
  },
  {
   "cell_type": "code",
   "execution_count": 7,
   "id": "nY7v9S9mHSlW",
   "metadata": {
    "colab": {
     "base_uri": "https://localhost:8080/",
     "height": 0
    },
    "id": "nY7v9S9mHSlW",
    "outputId": "adaad094-a49e-489f-bc46-16a8eec97fe8"
   },
   "outputs": [
    {
     "data": {
      "text/plain": [
       "\"[CLS] how ' s everything going? [SEP]\""
      ]
     },
     "execution_count": 7,
     "metadata": {},
     "output_type": "execute_result"
    }
   ],
   "source": [
    "tokenizer.decode(ids)"
   ]
  },
  {
   "cell_type": "code",
   "execution_count": 8,
   "id": "BQ0RgigrJLUs",
   "metadata": {
    "colab": {
     "base_uri": "https://localhost:8080/"
    },
    "id": "BQ0RgigrJLUs",
    "outputId": "70c2e7a3-8516-4333-9d4a-77107e69234d"
   },
   "outputs": [
    {
     "name": "stdout",
     "output_type": "stream",
     "text": [
      "['[CLS]', 'how', \"'\", 's', 'everything', 'going', '?', '[SEP]']\n",
      "[2129, 1005, 1055, 2673, 2183, 1029]\n",
      "how ' s everything going?\n"
     ]
    }
   ],
   "source": [
    "print(tokenizer.convert_ids_to_tokens(ids))\n",
    "print(tokenizer.convert_tokens_to_ids(token))\n",
    "print(tokenizer.convert_tokens_to_string(token))"
   ]
  },
  {
   "cell_type": "code",
   "execution_count": 9,
   "id": "Tw2849UAJCo9",
   "metadata": {
    "colab": {
     "base_uri": "https://localhost:8080/"
    },
    "id": "Tw2849UAJCo9",
    "outputId": "9ac87c57-4130-488f-a84f-c1e698a7a8e3"
   },
   "outputs": [
    {
     "name": "stdout",
     "output_type": "stream",
     "text": [
      "{'input_ids': [101, 2129, 1005, 1055, 2673, 2183, 1029, 102], 'token_type_ids': [0, 0, 0, 0, 0, 0, 0, 0], 'attention_mask': [1, 1, 1, 1, 1, 1, 1, 1]}\n"
     ]
    }
   ],
   "source": [
    "sample_s = \"How's everything going?\"\n",
    "es = tokenizer.encode_plus(sample_s)\n",
    "print(es)"
   ]
  },
  {
   "cell_type": "code",
   "execution_count": 10,
   "id": "OaeIMyUuJK8Y",
   "metadata": {
    "colab": {
     "base_uri": "https://localhost:8080/"
    },
    "id": "OaeIMyUuJK8Y",
    "outputId": "5efd6134-a7c4-4b90-b9ca-ceb9ee3a0712"
   },
   "outputs": [
    {
     "name": "stdout",
     "output_type": "stream",
     "text": [
      "{'input_ids': tensor([[ 101, 2129, 1005, 1055, 2673, 2183,  102]]), 'token_type_ids': tensor([[0, 0, 0, 0, 0, 0, 0]]), 'attention_mask': tensor([[1, 1, 1, 1, 1, 1, 1]])}\n"
     ]
    }
   ],
   "source": [
    "inputs = tokenizer.encode_plus(\n",
    "    sample_s,\n",
    "    max_length = 7,\n",
    "    truncation = True,\n",
    "    padding = 'max_length',\n",
    "    return_tensors = 'pt'\n",
    ")\n",
    "print(inputs)"
   ]
  },
  {
   "cell_type": "code",
   "execution_count": 11,
   "id": "MwfL4rUcMUMk",
   "metadata": {
    "colab": {
     "base_uri": "https://localhost:8080/"
    },
    "id": "MwfL4rUcMUMk",
    "outputId": "011be794-07f9-446a-ebf4-5990c2000bdd"
   },
   "outputs": [
    {
     "name": "stdout",
     "output_type": "stream",
     "text": [
      "{'input_ids': [101, 2129, 2024, 2017, 1029, 102, 0], 'token_type_ids': [0, 0, 0, 0, 0, 0, 0], 'attention_mask': [1, 1, 1, 1, 1, 1, 0]}\n"
     ]
    }
   ],
   "source": [
    "sample_os = \"How are you?\"\n",
    "os = tokenizer.encode_plus(\n",
    "    sample_os,\n",
    "    max_length = 7,\n",
    "    truncation = True,\n",
    "    padding = 'max_length'\n",
    ")\n",
    "print(os)"
   ]
  },
  {
   "cell_type": "markdown",
   "id": "le1XiOWDXyRE",
   "metadata": {
    "id": "le1XiOWDXyRE"
   },
   "source": [
    "### 自定義 Dataset，將tokenzie的步驟放進去"
   ]
  },
  {
   "cell_type": "code",
   "execution_count": 12,
   "id": "yvkBgVIhXyRF",
   "metadata": {
    "id": "yvkBgVIhXyRF"
   },
   "outputs": [],
   "source": [
    "import torch\n",
    "from torch.utils.data import Dataset, DataLoader\n",
    "from transformers import AutoTokenizer\n",
    "import torch\n",
    "import torch.nn.functional as Fun\n",
    "\n",
    "# Using Dataset to build DataLoader\n",
    "class CustomDataset(Dataset):\n",
    "    def __init__(self, mode, df, specify, args):\n",
    "        assert mode in [\"train\", \"val\", \"test\"]  # 一般會切三份\n",
    "        self.mode = mode\n",
    "        self.df = df\n",
    "        self.specify = specify # specify column of data (the column U use for predict)\n",
    "        if self.mode != 'test':\n",
    "          self.label = df['label']\n",
    "        self.tokenizer = AutoTokenizer.from_pretrained(args[\"config\"])\n",
    "        self.max_len = args[\"max_len\"]\n",
    "        self.num_class = args[\"num_class\"]\n",
    "\n",
    "    def __len__(self):\n",
    "        return len(self.df)\n",
    "\n",
    "    # transform label to one_hot label (if num_class > 2)\n",
    "    def one_hot_label(self, label):\n",
    "        return Fun.one_hot(torch.tensor(label, dtype=torch.long), num_classes=self.num_class)\n",
    "\n",
    "    # transform text to its number\n",
    "    def tokenize(self,input_text):\n",
    "        inputs = self.tokenizer.encode_plus(\n",
    "            input_text,\n",
    "            max_length = self.max_len,\n",
    "            truncation = True,\n",
    "            padding = 'max_length'\n",
    "        )\n",
    "        ids = inputs['input_ids']\n",
    "        mask = inputs['attention_mask']\n",
    "        token_type_ids = inputs[\"token_type_ids\"]\n",
    "\n",
    "        return ids,mask,token_type_ids\n",
    "\n",
    "    # get single data\n",
    "    def __getitem__(self, index):\n",
    "\n",
    "        sentence = str(self.df[self.specify][index])\n",
    "        ids, mask, token_type_ids = self.tokenize(sentence)\n",
    "\n",
    "\n",
    "        if self.mode == \"test\":\n",
    "            return torch.tensor(ids, dtype=torch.long), torch.tensor(mask, dtype=torch.long), \\\n",
    "                torch.tensor(token_type_ids, dtype=torch.long)\n",
    "        else:\n",
    "            return torch.tensor(ids, dtype=torch.long), torch.tensor(mask, dtype=torch.long), \\\n",
    "                torch.tensor(token_type_ids, dtype=torch.long), torch.tensor(self.label.iloc[index], dtype=torch.long)"
   ]
  },
  {
   "cell_type": "markdown",
   "id": "IJpQ20GSZOoV",
   "metadata": {
    "id": "IJpQ20GSZOoV"
   },
   "source": [
    "### 建立 DataLoader\n",
    "\n",
    "讀入資料並傳入自定的 Dataset 以自訂資料格式\n",
    "\n",
    "之後傳入DataLoader以利後續訓練進行（將資料批次化以免記憶體爆掉）"
   ]
  },
  {
   "cell_type": "code",
   "execution_count": 13,
   "id": "f112ad1a",
   "metadata": {},
   "outputs": [
    {
     "name": "stdout",
     "output_type": "stream",
     "text": [
      "check label:  ['anger' 'anticipation' 'disgust' 'fear' 'joy' 'sadness' 'surprise'\n",
      " 'trust']\n",
      "Encoded Labels: [1 5 3 4]\n",
      "Mapping: {'anger': 0, 'anticipation': 1, 'disgust': 2, 'fear': 3, 'joy': 4, 'sadness': 5, 'surprise': 6, 'trust': 7}\n"
     ]
    },
    {
     "data": {
      "text/html": [
       "<div>\n",
       "<style scoped>\n",
       "    .dataframe tbody tr th:only-of-type {\n",
       "        vertical-align: middle;\n",
       "    }\n",
       "\n",
       "    .dataframe tbody tr th {\n",
       "        vertical-align: top;\n",
       "    }\n",
       "\n",
       "    .dataframe thead th {\n",
       "        text-align: right;\n",
       "    }\n",
       "</style>\n",
       "<table border=\"1\" class=\"dataframe\">\n",
       "  <thead>\n",
       "    <tr style=\"text-align: right;\">\n",
       "      <th></th>\n",
       "      <th>_score</th>\n",
       "      <th>_index</th>\n",
       "      <th>_source</th>\n",
       "      <th>_crawldate</th>\n",
       "      <th>_type</th>\n",
       "      <th>tweet_id</th>\n",
       "      <th>text</th>\n",
       "      <th>hash_tags</th>\n",
       "      <th>emotion</th>\n",
       "      <th>label</th>\n",
       "    </tr>\n",
       "  </thead>\n",
       "  <tbody>\n",
       "    <tr>\n",
       "      <th>0</th>\n",
       "      <td>391</td>\n",
       "      <td>hashtag_tweets</td>\n",
       "      <td>{'tweet': {'hashtags': ['Snapchat'], 'tweet_id...</td>\n",
       "      <td>2015-05-23 11:42:47</td>\n",
       "      <td>tweets</td>\n",
       "      <td>0x376b20</td>\n",
       "      <td>People who post \"add me on #Snapchat\" must be ...</td>\n",
       "      <td>[Snapchat]</td>\n",
       "      <td>anticipation</td>\n",
       "      <td>1</td>\n",
       "    </tr>\n",
       "    <tr>\n",
       "      <th>1</th>\n",
       "      <td>433</td>\n",
       "      <td>hashtag_tweets</td>\n",
       "      <td>{'tweet': {'hashtags': ['freepress', 'TrumpLeg...</td>\n",
       "      <td>2016-01-28 04:52:09</td>\n",
       "      <td>tweets</td>\n",
       "      <td>0x2d5350</td>\n",
       "      <td>@brianklaas As we see, Trump is dangerous to #...</td>\n",
       "      <td>[freepress, TrumpLegacy, CNN]</td>\n",
       "      <td>sadness</td>\n",
       "      <td>5</td>\n",
       "    </tr>\n",
       "    <tr>\n",
       "      <th>2</th>\n",
       "      <td>376</td>\n",
       "      <td>hashtag_tweets</td>\n",
       "      <td>{'tweet': {'hashtags': [], 'tweet_id': '0x1cd5...</td>\n",
       "      <td>2016-01-24 23:53:05</td>\n",
       "      <td>tweets</td>\n",
       "      <td>0x1cd5b0</td>\n",
       "      <td>Now ISSA is stalking Tasha 😂😂😂 &lt;LH&gt;</td>\n",
       "      <td>[]</td>\n",
       "      <td>fear</td>\n",
       "      <td>3</td>\n",
       "    </tr>\n",
       "    <tr>\n",
       "      <th>3</th>\n",
       "      <td>120</td>\n",
       "      <td>hashtag_tweets</td>\n",
       "      <td>{'tweet': {'hashtags': ['authentic', 'LaughOut...</td>\n",
       "      <td>2015-06-11 04:44:05</td>\n",
       "      <td>tweets</td>\n",
       "      <td>0x1d755c</td>\n",
       "      <td>@RISKshow @TheKevinAllison Thx for the BEST TI...</td>\n",
       "      <td>[authentic, LaughOutLoud]</td>\n",
       "      <td>joy</td>\n",
       "      <td>4</td>\n",
       "    </tr>\n",
       "    <tr>\n",
       "      <th>4</th>\n",
       "      <td>1021</td>\n",
       "      <td>hashtag_tweets</td>\n",
       "      <td>{'tweet': {'hashtags': [], 'tweet_id': '0x2c91...</td>\n",
       "      <td>2015-08-18 02:30:07</td>\n",
       "      <td>tweets</td>\n",
       "      <td>0x2c91a8</td>\n",
       "      <td>Still waiting on those supplies Liscus. &lt;LH&gt;</td>\n",
       "      <td>[]</td>\n",
       "      <td>anticipation</td>\n",
       "      <td>1</td>\n",
       "    </tr>\n",
       "  </tbody>\n",
       "</table>\n",
       "</div>"
      ],
      "text/plain": [
       "   _score          _index                                            _source  \\\n",
       "0     391  hashtag_tweets  {'tweet': {'hashtags': ['Snapchat'], 'tweet_id...   \n",
       "1     433  hashtag_tweets  {'tweet': {'hashtags': ['freepress', 'TrumpLeg...   \n",
       "2     376  hashtag_tweets  {'tweet': {'hashtags': [], 'tweet_id': '0x1cd5...   \n",
       "3     120  hashtag_tweets  {'tweet': {'hashtags': ['authentic', 'LaughOut...   \n",
       "4    1021  hashtag_tweets  {'tweet': {'hashtags': [], 'tweet_id': '0x2c91...   \n",
       "\n",
       "            _crawldate   _type  tweet_id  \\\n",
       "0  2015-05-23 11:42:47  tweets  0x376b20   \n",
       "1  2016-01-28 04:52:09  tweets  0x2d5350   \n",
       "2  2016-01-24 23:53:05  tweets  0x1cd5b0   \n",
       "3  2015-06-11 04:44:05  tweets  0x1d755c   \n",
       "4  2015-08-18 02:30:07  tweets  0x2c91a8   \n",
       "\n",
       "                                                text  \\\n",
       "0  People who post \"add me on #Snapchat\" must be ...   \n",
       "1  @brianklaas As we see, Trump is dangerous to #...   \n",
       "2                Now ISSA is stalking Tasha 😂😂😂 <LH>   \n",
       "3  @RISKshow @TheKevinAllison Thx for the BEST TI...   \n",
       "4       Still waiting on those supplies Liscus. <LH>   \n",
       "\n",
       "                       hash_tags       emotion  label  \n",
       "0                     [Snapchat]  anticipation      1  \n",
       "1  [freepress, TrumpLegacy, CNN]       sadness      5  \n",
       "2                             []          fear      3  \n",
       "3      [authentic, LaughOutLoud]           joy      4  \n",
       "4                             []  anticipation      1  "
      ]
     },
     "execution_count": 13,
     "metadata": {},
     "output_type": "execute_result"
    }
   ],
   "source": [
    "from sklearn.preprocessing import LabelEncoder\n",
    "\n",
    "emotion_label = df_twitter_train['emotion']\n",
    "label_encoder = LabelEncoder()\n",
    "label_encoder.fit(emotion_label)\n",
    "print('check label: ', label_encoder.classes_)\n",
    "\n",
    "emotion_label = label_encoder.fit_transform(df_twitter_train['emotion'])\n",
    "\n",
    "# 檢查轉換結果\n",
    "print(\"Encoded Labels:\", emotion_label[:4])\n",
    "print(\"Mapping:\", dict(zip(label_encoder.classes_, range(len(label_encoder.classes_)))))\n",
    "\n",
    "df_twitter_train['label'] = emotion_label\n",
    "df_twitter_train.head()"
   ]
  },
  {
   "cell_type": "code",
   "execution_count": 14,
   "id": "40f7a90e",
   "metadata": {},
   "outputs": [],
   "source": [
    "train_df, val_df = train_test_split(df_twitter_train, random_state=1111, train_size=0.8)"
   ]
  },
  {
   "cell_type": "code",
   "execution_count": 15,
   "id": "db204692",
   "metadata": {},
   "outputs": [],
   "source": [
    "train_df = pd.DataFrame({\n",
    "    \"text\": train_df['text'],\n",
    "    \"label\": train_df['label']\n",
    "})\n",
    "\n",
    "val_df = pd.DataFrame({\n",
    "    \"text\": val_df['text'],\n",
    "    \"label\": val_df['label']\n",
    "})"
   ]
  },
  {
   "cell_type": "code",
   "execution_count": 16,
   "id": "471cc81a",
   "metadata": {},
   "outputs": [
    {
     "name": "stdout",
     "output_type": "stream",
     "text": [
      "(1164450, 2)\n",
      "(291113, 2)\n"
     ]
    }
   ],
   "source": [
    "print(train_df.shape)\n",
    "print(val_df.shape)"
   ]
  },
  {
   "cell_type": "code",
   "execution_count": 17,
   "id": "W0t0NVOAXyRG",
   "metadata": {
    "id": "W0t0NVOAXyRG"
   },
   "outputs": [],
   "source": [
    "import transformers\n",
    "import pandas as pd\n",
    "\n",
    "# load training data\n",
    "train_df = train_df.reset_index(drop=True)\n",
    "train_dataset = CustomDataset('train', train_df, 'text', parameters)\n",
    "train_loader = DataLoader(train_dataset, batch_size=parameters['batch_size'], shuffle=True)\n",
    "\n",
    "# load validation data\n",
    "val_df = val_df.reset_index(drop=True)\n",
    "val_dataset = CustomDataset('val', val_df, 'text', parameters)\n",
    "val_loader = DataLoader(val_dataset, batch_size=parameters['batch_size'], shuffle=True)"
   ]
  },
  {
   "cell_type": "code",
   "execution_count": 18,
   "id": "ej79ZzPJXyQ5",
   "metadata": {
    "id": "ej79ZzPJXyQ5"
   },
   "outputs": [],
   "source": [
    "import warnings\n",
    "warnings.filterwarnings('ignore') # setting ignore as a parameter"
   ]
  },
  {
   "cell_type": "markdown",
   "id": "RQsY2rjue4Tm",
   "metadata": {
    "id": "RQsY2rjue4Tm"
   },
   "source": [
    "## 建立模型\n",
    "\n",
    "*   自己重新寫分類模型\n",
    "*   模型訓練與評估的程式碼大致上相同，差別在於模型是否繼續進行梯度下降，以及模型參數是否繼續訓練\n",
    "\n"
   ]
  },
  {
   "cell_type": "markdown",
   "id": "42tUULbmdt17",
   "metadata": {
    "id": "42tUULbmdt17"
   },
   "source": [
    "### train utils"
   ]
  },
  {
   "cell_type": "code",
   "execution_count": 19,
   "id": "nOSkuPT7XyQ8",
   "metadata": {
    "id": "nOSkuPT7XyQ8"
   },
   "outputs": [],
   "source": [
    "from sklearn.metrics import accuracy_score, precision_score, f1_score, recall_score\n",
    "\n",
    "# get predict result\n",
    "def get_pred(logits):\n",
    "    return torch.argmax(logits, dim=1)\n",
    "\n",
    "# calculate confusion metrics\n",
    "def cal_metrics(pred, ans, method):\n",
    "    '''\n",
    "    Parameter\n",
    "    ---------\n",
    "    pred: [list], predict class\n",
    "    ans: [list], true class\n",
    "    method: 'micro', 'weighted', 'macro'.\n",
    "    ---------\n",
    "    '''\n",
    "    if pred.get_device() != 'cpu':\n",
    "        pred = pred.detach().cpu().numpy()\n",
    "    if ans.get_device() != 'cpu':\n",
    "        ans = ans.detach().cpu().numpy()\n",
    "    rec = recall_score(pred, ans, average=method, zero_division=0)\n",
    "    f1 = f1_score(pred, ans, average=method, zero_division=0)\n",
    "    prec = precision_score(pred, ans, average=method, zero_division=0)\n",
    "    acc = accuracy_score(pred, ans)\n",
    "    return acc, f1, rec, prec"
   ]
  },
  {
   "cell_type": "code",
   "execution_count": 20,
   "id": "RuLxKpySXyQ-",
   "metadata": {
    "id": "RuLxKpySXyQ-"
   },
   "outputs": [],
   "source": [
    "# save model to path\n",
    "def save_checkpoint(save_path, model):\n",
    "    if save_path == None:\n",
    "        return\n",
    "    torch.save(model.state_dict(), save_path)\n",
    "    print(f'Model saved to ==> {save_path}')\n",
    "\n",
    "# load model from path\n",
    "def load_checkpoint(load_path, model, device):\n",
    "    if load_path==None:\n",
    "        return\n",
    "    state_dict = torch.load(load_path, map_location=device)\n",
    "    print(f'Model loaded from <== {load_path}')\n",
    "\n",
    "    model.load_state_dict(state_dict)\n",
    "    return model"
   ]
  },
  {
   "cell_type": "code",
   "execution_count": 21,
   "id": "HtQra69-XyRI",
   "metadata": {
    "id": "HtQra69-XyRI"
   },
   "outputs": [],
   "source": [
    "import matplotlib.pyplot as plt\n",
    "\n",
    "# draw the learning curve\n",
    "def draw_pic(record, name, img_save=False, show=False):\n",
    "    x_ticks = range(1, parameters[\"epochs\"]+1)\n",
    "\n",
    "    plt.figure(figsize=(6, 3))\n",
    "\n",
    "    plt.plot(x_ticks, record['train_'+name], '-o', color='lightskyblue',\n",
    "             markeredgecolor=\"teal\", markersize=3, markeredgewidth=1, label = 'Train')\n",
    "    plt.plot(x_ticks, record['val_'+name], '-o', color='pink',\n",
    "             markeredgecolor=\"salmon\", markersize=3, markeredgewidth=1, label = 'Val')\n",
    "    plt.grid(color='lightgray', linestyle='--', linewidth=1)\n",
    "\n",
    "    plt.title('Model', fontsize=14)\n",
    "    plt.ylabel(name, fontsize=12)\n",
    "    plt.xlabel('Epoch', fontsize=12)\n",
    "    plt.xticks(x_ticks, fontsize=12)\n",
    "    plt.yticks(fontsize=12)\n",
    "    plt.legend(loc='lower right' if not name.lower().endswith('loss') else 'upper right')\n",
    "\n",
    "    if img_save:\n",
    "        plt.savefig(name+'.png', transparent=False, dpi=300)\n",
    "    if show:\n",
    "        plt.show()\n",
    "\n",
    "    plt.close()"
   ]
  },
  {
   "cell_type": "code",
   "execution_count": 22,
   "id": "-gjV5dGCXyRI",
   "metadata": {
    "id": "-gjV5dGCXyRI"
   },
   "outputs": [],
   "source": [
    "import smtplib\n",
    "from email.mime.multipart import MIMEMultipart\n",
    "from email.mime.text import MIMEText\n",
    "from email.mime.image import MIMEImage\n",
    "from email.mime.base import MIMEBase\n",
    "from email import encoders\n",
    "\n",
    "def send_email(hyperparameters, png_files):\n",
    "\n",
    "    # create MIMEMultipart\n",
    "    msg = MIMEMultipart()\n",
    "\n",
    "    # define sender and receiver, U need to change this for yours\n",
    "    msg['From'] = 'YOUR EMAIL ACCOUNT'\n",
    "    msg['To'] = 'YOUR EMAIL ACCOUNT'\n",
    "\n",
    "    msg['Subject'] = 'Training Result'\n",
    "\n",
    "    # create text content\n",
    "    text = MIMEText(f'{hyperparameters}\\n\\n')\n",
    "    msg.attach(text)\n",
    "\n",
    "    # read png\n",
    "    for file in png_files:\n",
    "        with open(file, 'rb') as fp:\n",
    "            image = MIMEBase('application', \"octet-stream\")\n",
    "            image.set_payload(fp.read())\n",
    "        encoders.encode_base64(image)\n",
    "        image.add_header('Content-Disposition', 'attachment', filename=file)\n",
    "        msg.attach(image)\n",
    "\n",
    "    # 建立 SMTP 服務\n",
    "    server = smtplib.SMTP('smtp.gmail.com', 587)\n",
    "    server.ehlo()\n",
    "    server.starttls()\n",
    "    server.login('YOUR EMAIL ACCOUNT',  'YOUR EMAIL PASSWOED') # U need to change this for yours\n",
    "\n",
    "    server.send_message(msg)  # send email\n",
    "    server.quit()  # close the email channel"
   ]
  },
  {
   "cell_type": "markdown",
   "id": "hZi5P4H5d0er",
   "metadata": {
    "id": "hZi5P4H5d0er"
   },
   "source": [
    "### model"
   ]
  },
  {
   "cell_type": "code",
   "execution_count": 23,
   "id": "oWw6r2CWIY0C",
   "metadata": {
    "id": "oWw6r2CWIY0C"
   },
   "outputs": [],
   "source": [
    "import torch.nn as nn\n",
    "\n",
    "# define different activation function\n",
    "def get_activation(activation):\n",
    "    if activation == 'Prelu':\n",
    "        return nn.PReLU()\n",
    "    elif activation == 'relu':\n",
    "        return nn.ReLU()\n",
    "    elif activation == 'sigmoid':\n",
    "        return nn.Sigmoid()\n",
    "    elif activation == 'gelu':\n",
    "        return nn.GELU()\n",
    "    elif activation == 'LeakyReLU':\n",
    "        return nn.LeakyReLU()\n",
    "    else:\n",
    "        return nn.Tanh()\n",
    "\n",
    "# Dense Layer\n",
    "# It is composed of linear, (dropout), and activation layers.\n",
    "# dropout is optional, and activation is needed when there is more than one linear layer\n",
    "class Dense(nn.Module):\n",
    "    def __init__(self, input_dim, output_dim, dropout_rate, activation='tanh'):\n",
    "        super(Dense, self).__init__()\n",
    "\n",
    "        self.hidden_layer = nn.Linear(input_dim, output_dim)\n",
    "        self.dropout = nn.Dropout(dropout_rate)\n",
    "        self.activation = get_activation(activation) # default tanh\n",
    "        nn.init.xavier_uniform_(self.hidden_layer.weight) # you also can change the initialize method\n",
    "\n",
    "    def forward(self, inputs):\n",
    "        logits = self.hidden_layer(inputs)\n",
    "        logits = self.dropout(logits)\n",
    "        logits = self.activation(logits)\n",
    "\n",
    "        return logits"
   ]
  },
  {
   "cell_type": "code",
   "execution_count": 24,
   "id": "suyj5WLJXyQ7",
   "metadata": {
    "id": "suyj5WLJXyQ7"
   },
   "outputs": [],
   "source": [
    "from transformers.models.bert.modeling_bert import BertPreTrainedModel, BertModel\n",
    "import torch.nn as nn\n",
    "\n",
    "# BERT Model\n",
    "class BertClassifier(BertPreTrainedModel):\n",
    "    def __init__(self, config, args):\n",
    "        super(BertClassifier, self).__init__(config)\n",
    "        self.bert = BertModel(config)\n",
    "        self.num_labels = args[\"num_class\"]\n",
    "        self.dropout = nn.Dropout(args[\"dropout\"])\n",
    "        self.classifier = nn.Linear(config.hidden_size, self.num_labels)\n",
    "        self.init_weights()\n",
    "\n",
    "    # forward function, data in model will do this\n",
    "    def forward(self, input_ids=None, attention_mask=None, token_type_ids=None, position_ids=None,\n",
    "                head_mask=None, inputs_embeds=None, labels=None, output_attentions=None,\n",
    "                output_hidden_states=None, return_dict=None):\n",
    "\n",
    "        return_dict = return_dict if return_dict is not None else self.config.use_return_dict\n",
    "\n",
    "        # bert output\n",
    "        outputs = self.bert(\n",
    "            input_ids,\n",
    "            attention_mask=attention_mask,\n",
    "            token_type_ids=token_type_ids,\n",
    "            position_ids=position_ids,\n",
    "            head_mask=head_mask,\n",
    "            inputs_embeds=inputs_embeds,\n",
    "            output_attentions=output_attentions,\n",
    "            output_hidden_states=output_hidden_states,\n",
    "            return_dict=return_dict\n",
    "        )\n",
    "        '''\n",
    "        outputs.keys() -> odict_keys(['last_hidden_state', 'pooler_output'])\n",
    "        outs.last_hidden_state.shape -> torch.Size([batch_size, 512, 768])\n",
    "        outs.pooler_output.shape -> torch.Size([batch_size, 768])\n",
    "        '''\n",
    "\n",
    "        # get its [CLS] logits\n",
    "        pooled_output = outputs[1] # (batch_size, 768)\n",
    "        # add dense layer\n",
    "        pooled_output = self.dropout(pooled_output) # (batch_size, 768)\n",
    "        # add linear classifier\n",
    "        logits = self.classifier(pooled_output) # (batch_size, 2)\n",
    "\n",
    "        return logits"
   ]
  },
  {
   "cell_type": "code",
   "execution_count": 25,
   "id": "_QVJaIv5XyQ9",
   "metadata": {
    "id": "_QVJaIv5XyQ9"
   },
   "outputs": [],
   "source": [
    "# evaluate dataloader\n",
    "def evaluate(model, data_loader, device):\n",
    "    val_loss, val_acc, val_f1, val_rec, val_prec = 0.0, 0.0, 0.0, 0.0, 0.0\n",
    "    step_count = 0\n",
    "    loss_fct = nn.CrossEntropyLoss()\n",
    "    model.eval()\n",
    "    with torch.no_grad():\n",
    "        for data in data_loader:\n",
    "            ids, masks, token_type_ids, labels = [t.to(device) for t in data]\n",
    "\n",
    "            logits = model(input_ids = ids,\n",
    "                    token_type_ids = token_type_ids,\n",
    "                    attention_mask = masks)\n",
    "            acc, f1, rec, prec = cal_metrics(get_pred(logits), labels, 'macro')\n",
    "            loss = loss_fct(logits, labels)\n",
    "\n",
    "            val_loss += loss.item()\n",
    "            val_acc += acc\n",
    "            val_f1 += f1\n",
    "            val_rec += rec\n",
    "            val_prec += prec\n",
    "            step_count+=1\n",
    "\n",
    "        val_loss = val_loss / step_count\n",
    "        val_acc = val_acc / step_count\n",
    "        val_f1 = val_f1 / step_count\n",
    "        val_rec = val_rec / step_count\n",
    "        val_prec = val_prec / step_count\n",
    "\n",
    "    return val_loss, val_acc, val_f1, val_rec, val_prec"
   ]
  },
  {
   "cell_type": "code",
   "execution_count": 26,
   "id": "BUX_aw7hXyRH",
   "metadata": {
    "id": "BUX_aw7hXyRH"
   },
   "outputs": [],
   "source": [
    "# Start training\n",
    "import time\n",
    "\n",
    "def train(model, train_loader, val_loader, optimizer, args, device):\n",
    "  metrics = ['loss', 'acc', 'f1', 'rec', 'prec']\n",
    "  mode = ['train_', 'val_']\n",
    "  record = {s+m :[] for s in mode for m in metrics}\n",
    "\n",
    "  for epoch in range(args[\"epochs\"]):\n",
    "\n",
    "      st_time = time.time()\n",
    "      train_loss, train_acc, train_f1, train_rec, train_prec = 0.0, 0.0, 0.0, 0.0, 0.0\n",
    "      step_count = 0\n",
    "\n",
    "      model.train()\n",
    "      for data in train_loader:\n",
    "\n",
    "          ids, masks, token_type_ids, labels = [t.to(device) for t in data]\n",
    "\n",
    "          optimizer.zero_grad()\n",
    "\n",
    "          logits = model(input_ids = ids,\n",
    "                  token_type_ids = token_type_ids,\n",
    "                  attention_mask = masks)\n",
    "          acc, f1, rec, prec = cal_metrics(get_pred(logits), labels, 'macro')\n",
    "          loss = loss_fct(logits, labels)\n",
    "\n",
    "          loss.backward()\n",
    "          optimizer.step()\n",
    "\n",
    "          train_loss += loss.item()\n",
    "          train_acc += acc\n",
    "          train_f1 += f1\n",
    "          train_rec += rec\n",
    "          train_prec += prec\n",
    "          step_count += 1\n",
    "\n",
    "      # evaluate the model performace on val data after finishing an epoch training\n",
    "      val_loss, val_acc, val_f1, val_rec, val_prec = evaluate(model, val_loader, device)\n",
    "\n",
    "      train_loss = train_loss / step_count\n",
    "      train_acc = train_acc / step_count\n",
    "      train_f1 = train_f1 / step_count\n",
    "      train_rec = train_rec / step_count\n",
    "      train_prec = train_prec / step_count\n",
    "\n",
    "      print('[epoch %d] cost time: %.4f s'%(epoch + 1, time.time() - st_time))\n",
    "      print('         loss     acc     f1      rec    prec')\n",
    "      print('train | %.4f, %.4f, %.4f, %.4f, %.4f'%(train_loss, train_acc, train_f1, train_rec, train_prec))\n",
    "      print('val  | %.4f, %.4f, %.4f, %.4f, %.4f\\n'%(val_loss, val_acc, val_f1, val_rec, val_prec))\n",
    "\n",
    "      # record training metrics of each training epoch\n",
    "      record['train_loss'].append(train_loss)\n",
    "      record['train_acc'].append(train_acc)\n",
    "      record['train_f1'].append(train_f1)\n",
    "      record['train_rec'].append(train_rec)\n",
    "      record['train_prec'].append(train_prec)\n",
    "\n",
    "      record['val_loss'].append(val_loss)\n",
    "      record['val_acc'].append(val_acc)\n",
    "      record['val_f1'].append(val_f1)\n",
    "      record['val_rec'].append(val_rec)\n",
    "      record['val_prec'].append(val_prec)\n",
    "\n",
    "  # save model\n",
    "  save_checkpoint(args[\"model_name\"] + '_' + args[\"time\"].split('_')[0] + '.pt', model)\n",
    "  return record"
   ]
  },
  {
   "cell_type": "markdown",
   "id": "4QTsH978XyRG",
   "metadata": {
    "id": "4QTsH978XyRG"
   },
   "source": [
    "## 開始訓練"
   ]
  },
  {
   "cell_type": "markdown",
   "id": "nMZ8wEyjab68",
   "metadata": {
    "id": "nMZ8wEyjab68"
   },
   "source": [
    "### 初始化模型\n",
    "*   載入模型（這邊會使用已經訓練過的模型，Fine-tune我們的資料集）\n",
    "*   定義Optimization\n",
    "  *   通常用Adam就可以了，你也可以換SGD之類的試看看\n",
    "  *   可以自己看需不需要加scheduler（可以自己寫一個function，也可以直接套用現有的function）\n",
    "  \n",
    "  ［請記得pytorch中是以step去計算，想要用epoch去訂定需自行換算］\n",
    "\n",
    "\n"
   ]
  },
  {
   "cell_type": "code",
   "execution_count": 27,
   "id": "fb26f4a1",
   "metadata": {},
   "outputs": [
    {
     "data": {
      "text/plain": [
       "True"
      ]
     },
     "execution_count": 27,
     "metadata": {},
     "output_type": "execute_result"
    }
   ],
   "source": [
    "torch.cuda.is_available()"
   ]
  },
  {
   "cell_type": "code",
   "execution_count": 28,
   "id": "5D7NzvuGaZfY",
   "metadata": {
    "id": "5D7NzvuGaZfY"
   },
   "outputs": [],
   "source": [
    "transformers.logging.set_verbosity_error() # close the warning message\n",
    "\n",
    "device = torch.device(\"cuda\" if torch.cuda.is_available() else \"cpu\")\n",
    "model = BertClassifier.from_pretrained(parameters['config'], parameters).to(device)\n",
    "loss_fct = torch.nn.CrossEntropyLoss() # we use cross entrophy loss\n",
    "\n",
    "## You can custom your optimizer (e.g. SGD .etc) ##\n",
    "# we use Adam here\n",
    "optimizer = torch.optim.Adam(model.parameters(), lr=parameters['learning_rate'], betas=(0.9, 0.999), eps=1e-9)\n",
    "\n",
    "## You also can add your custom scheduler ##\n",
    "# num_train_steps = len(train_loader) * parameters['epochs]\n",
    "# scheduler = get_cosine_schedule_with_warmup(optimizer, num_warmup_steps=int(0.1 * num_train_steps), num_training_steps=num_train_steps, num_cycles=1)"
   ]
  },
  {
   "cell_type": "markdown",
   "id": "SreMXnt6d9zU",
   "metadata": {
    "id": "SreMXnt6d9zU"
   },
   "source": [
    "訓練+畫圖"
   ]
  },
  {
   "cell_type": "code",
   "execution_count": 29,
   "id": "RKEdRFDzXyRI",
   "metadata": {
    "colab": {
     "base_uri": "https://localhost:8080/",
     "height": 1000
    },
    "id": "RKEdRFDzXyRI",
    "outputId": "862ddf72-da32-434d-e9d1-c3fa5da31b4a"
   },
   "outputs": [
    {
     "name": "stdout",
     "output_type": "stream",
     "text": [
      "[epoch 1] cost time: 50966.9371 s\n",
      "         loss     acc     f1      rec    prec\n",
      "train | 1.7926, 0.3543, 0.0915, 0.0638, 0.1757\n",
      "val  | 1.7939, 0.3547, 0.0916, 0.0638, 0.1757\n",
      "\n",
      "Model saved to ==> BERT_2024-11-17.pt\n"
     ]
    },
    {
     "data": {
      "image/png": "[encoded data removed]",
      "text/plain": [
       "<Figure size 600x300 with 1 Axes>"
      ]
     },
     "metadata": {},
     "output_type": "display_data"
    },
    {
     "data": {
      "image/png": "[encoded data removed]",
      "text/plain": [
       "<Figure size 600x300 with 1 Axes>"
      ]
     },
     "metadata": {},
     "output_type": "display_data"
    },
    {
     "data": {
      "image/png": "[encoded data removed]",
      "text/plain": [
       "<Figure size 600x300 with 1 Axes>"
      ]
     },
     "metadata": {},
     "output_type": "display_data"
    },
    {
     "data": {
      "image/png": "[encoded data removed]",
      "text/plain": [
       "<Figure size 600x300 with 1 Axes>"
      ]
     },
     "metadata": {},
     "output_type": "display_data"
    },
    {
     "data": {
      "image/png": "[encoded data removed]",
      "text/plain": [
       "<Figure size 600x300 with 1 Axes>"
      ]
     },
     "metadata": {},
     "output_type": "display_data"
    }
   ],
   "source": [
    "history = train(model, train_loader, val_loader, optimizer, parameters, device)\n",
    "\n",
    "# draw all metrics figure\n",
    "draw_pic(history, 'loss', img_save=True, show=True)\n",
    "draw_pic(history, 'acc', img_save=True, show=True)\n",
    "draw_pic(history, 'f1', img_save=True, show=True)\n",
    "draw_pic(history, 'rec', img_save=True, show=True)\n",
    "draw_pic(history, 'prec', img_save=True, show=True)\n",
    "\n",
    "files = []\n",
    "files.append('loss.png')\n",
    "files.append('acc.png')\n",
    "files.append('f1.png')\n",
    "files.append('rec.png')\n",
    "files.append('prec.png')"
   ]
  },
  {
   "cell_type": "markdown",
   "id": "A6GLT9fOXyRJ",
   "metadata": {
    "id": "A6GLT9fOXyRJ"
   },
   "source": [
    "## 預測結果"
   ]
  },
  {
   "cell_type": "markdown",
   "id": "NXV9nz2RXyRJ",
   "metadata": {
    "id": "NXV9nz2RXyRJ"
   },
   "source": [
    "預測單筆（跟評估的程式大同小異）\n",
    "\n",
    "（你也可以像evaluate function一樣，把它寫成dataloader的形式）\n",
    "\n"
   ]
  },
  {
   "cell_type": "code",
   "execution_count": 39,
   "id": "BEjRQrsnXyRJ",
   "metadata": {
    "id": "BEjRQrsnXyRJ"
   },
   "outputs": [],
   "source": [
    "def Softmax(x):\n",
    "    return torch.exp(x) / torch.exp(x).sum()"
   ]
  },
  {
   "cell_type": "code",
   "execution_count": 40,
   "id": "a4D4Z9-8XyRK",
   "metadata": {
    "id": "a4D4Z9-8XyRK"
   },
   "outputs": [],
   "source": [
    "# label to class\n",
    "def label2class(label):\n",
    "  l2c = {0:'negative', 1:'positive'}\n",
    "  return l2c[label]\n",
    "\n",
    "# predict single sentence\n",
    "def predict_one(query, model):\n",
    "\n",
    "  tokenizer = AutoTokenizer.from_pretrained(parameters['config'])\n",
    "  device = torch.device(\"cuda\" if torch.cuda.is_available() else \"cpu\")\n",
    "\n",
    "  model.eval()\n",
    "  with torch.no_grad():\n",
    "    inputs = tokenizer.encode_plus(\n",
    "        query,\n",
    "        max_length = parameters['max_len'],\n",
    "        truncation = True,\n",
    "        padding = 'max_length',\n",
    "        return_tensors = 'pt'\n",
    "    )\n",
    "\n",
    "    input_ids = inputs['input_ids'].to(device)\n",
    "    attention_mask = inputs['attention_mask'].to(device)\n",
    "    token_type_ids = inputs['token_type_ids'].to(device)\n",
    "\n",
    "    # forward pass\n",
    "    logits = model(input_ids, attention_mask, token_type_ids)\n",
    "    probs = Softmax(logits) # get each class-probs\n",
    "    label_index = torch.argmax(probs[0], dim=0)\n",
    "    pred = label_index.item()\n",
    "\n",
    "  return probs, pred\n"
   ]
  },
  {
   "cell_type": "code",
   "execution_count": 41,
   "id": "egfecB7sXyRK",
   "metadata": {
    "colab": {
     "base_uri": "https://localhost:8080/"
    },
    "id": "egfecB7sXyRK",
    "outputId": "6406be03-df4a-452f-9a93-91c63f6c3652"
   },
   "outputs": [
    {
     "name": "stdout",
     "output_type": "stream",
     "text": [
      "Model loaded from <== ./BERT_2024-11-17.pt\n"
     ]
    }
   ],
   "source": [
    "# you can load model from existing result\n",
    "device = torch.device(\"cuda\" if torch.cuda.is_available() else \"cpu\")\n",
    "init_model = BertClassifier.from_pretrained(parameters['config'], parameters) # build an initial model\n",
    "model = load_checkpoint('./BERT_2024-11-17.pt', init_model, device).to(device) # and load the weight of model from specify file"
   ]
  },
  {
   "cell_type": "code",
   "execution_count": 42,
   "id": "0BowzmKvXyRK",
   "metadata": {
    "colab": {
     "base_uri": "https://localhost:8080/"
    },
    "id": "0BowzmKvXyRK",
    "outputId": "763b88fc-c2ea-452b-9650-82c2b873e9a0"
   },
   "outputs": [
    {
     "name": "stdout",
     "output_type": "stream",
     "text": [
      "tensor([[0.0216, 0.1910, 0.0814, 0.0380, 0.3681, 0.1432, 0.0325, 0.1242]],\n",
      "       device='cuda:0') 4\n",
      "CPU times: total: 15.6 ms\n",
      "Wall time: 327 ms\n"
     ]
    }
   ],
   "source": [
    "%%time\n",
    "probs, pred = predict_one(\"This movie doesn't attract me\", model)\n",
    "print(probs, pred)\n",
    "# print(label2class(pred))"
   ]
  },
  {
   "cell_type": "code",
   "execution_count": 43,
   "id": "c0s5Da92XyRN",
   "metadata": {
    "id": "c0s5Da92XyRN"
   },
   "outputs": [],
   "source": [
    "# predict dataloader\n",
    "def predict(data_loader, model):\n",
    "\n",
    "  tokenizer = AutoTokenizer.from_pretrained(parameters['config'])\n",
    "  device = torch.device(\"cuda\" if torch.cuda.is_available() else \"cpu\")\n",
    "\n",
    "  total_probs, total_pred = [], []\n",
    "  model.eval()\n",
    "  with torch.no_grad():\n",
    "    for data in data_loader:\n",
    "      input_ids, attention_mask, \\\n",
    "      token_type_ids = [t.to(device) for t in data]\n",
    "\n",
    "      # forward pass\n",
    "      logits = model(input_ids, attention_mask, token_type_ids)\n",
    "      probs = Softmax(logits) # get each class-probs\n",
    "      label_index = torch.argmax(probs[0], dim=0)\n",
    "      pred = label_index.item()\n",
    "\n",
    "      total_probs.append(probs)\n",
    "      total_pred.append(pred)\n",
    "\n",
    "  return total_probs, total_pred"
   ]
  },
  {
   "cell_type": "code",
   "execution_count": 44,
   "id": "f69b6c9d",
   "metadata": {},
   "outputs": [],
   "source": [
    "test_df = pd.DataFrame({\n",
    "    \"text\": df_twitter_test['text']\n",
    "}).reset_index(drop=True)"
   ]
  },
  {
   "cell_type": "code",
   "execution_count": 45,
   "id": "b9acda38",
   "metadata": {},
   "outputs": [
    {
     "data": {
      "text/html": [
       "<div>\n",
       "<style scoped>\n",
       "    .dataframe tbody tr th:only-of-type {\n",
       "        vertical-align: middle;\n",
       "    }\n",
       "\n",
       "    .dataframe tbody tr th {\n",
       "        vertical-align: top;\n",
       "    }\n",
       "\n",
       "    .dataframe thead th {\n",
       "        text-align: right;\n",
       "    }\n",
       "</style>\n",
       "<table border=\"1\" class=\"dataframe\">\n",
       "  <thead>\n",
       "    <tr style=\"text-align: right;\">\n",
       "      <th></th>\n",
       "      <th>text</th>\n",
       "    </tr>\n",
       "  </thead>\n",
       "  <tbody>\n",
       "    <tr>\n",
       "      <th>0</th>\n",
       "      <td>Confident of your obedience, I write to you, k...</td>\n",
       "    </tr>\n",
       "    <tr>\n",
       "      <th>1</th>\n",
       "      <td>\"Trust is not the same as faith. A friend is s...</td>\n",
       "    </tr>\n",
       "    <tr>\n",
       "      <th>2</th>\n",
       "      <td>When do you have enough ? When are you satisfi...</td>\n",
       "    </tr>\n",
       "    <tr>\n",
       "      <th>3</th>\n",
       "      <td>God woke you up, now chase the day #GodsPlan #...</td>\n",
       "    </tr>\n",
       "    <tr>\n",
       "      <th>4</th>\n",
       "      <td>In these tough times, who do YOU turn to as yo...</td>\n",
       "    </tr>\n",
       "  </tbody>\n",
       "</table>\n",
       "</div>"
      ],
      "text/plain": [
       "                                                text\n",
       "0  Confident of your obedience, I write to you, k...\n",
       "1  \"Trust is not the same as faith. A friend is s...\n",
       "2  When do you have enough ? When are you satisfi...\n",
       "3  God woke you up, now chase the day #GodsPlan #...\n",
       "4  In these tough times, who do YOU turn to as yo..."
      ]
     },
     "execution_count": 45,
     "metadata": {},
     "output_type": "execute_result"
    }
   ],
   "source": [
    "test_df.head()"
   ]
  },
  {
   "cell_type": "code",
   "execution_count": 46,
   "id": "lPkXV9J5XyRN",
   "metadata": {
    "id": "lPkXV9J5XyRN"
   },
   "outputs": [],
   "source": [
    "# load testing data\n",
    "test_dataset = CustomDataset('test', test_df, 'text', parameters)\n",
    "test_loader = DataLoader(test_dataset, batch_size=1, shuffle=False)\n",
    "\n",
    "total_probs, total_pred = predict(test_loader, model)\n",
    "res = pd.DataFrame({\n",
    "    \"id\": test_ids,\n",
    "    \"emotion\": total_pred\n",
    "})\n",
    "\n",
    "# save result\n",
    "res.to_csv('./result.csv')"
   ]
  },
  {
   "cell_type": "code",
   "execution_count": 48,
   "id": "9c453fff",
   "metadata": {},
   "outputs": [
    {
     "data": {
      "text/plain": [
       "[4, 4, 4, 4, 4, 4, 4, 4, 4, 4]"
      ]
     },
     "execution_count": 48,
     "metadata": {},
     "output_type": "execute_result"
    }
   ],
   "source": [
    "total_pred[:10]"
   ]
  },
  {
   "cell_type": "code",
   "execution_count": 49,
   "id": "a5447f00",
   "metadata": {},
   "outputs": [
    {
     "data": {
      "text/plain": [
       "array(['joy', 'joy', 'joy', 'joy', 'joy', 'joy', 'joy', 'joy', 'joy',\n",
       "       'joy'], dtype=object)"
      ]
     },
     "execution_count": 49,
     "metadata": {},
     "output_type": "execute_result"
    }
   ],
   "source": [
    "total_pred = label_encoder.inverse_transform(total_pred)\n",
    "total_pred[:10]"
   ]
  },
  {
   "cell_type": "code",
   "execution_count": 50,
   "id": "a74a6ab6",
   "metadata": {},
   "outputs": [],
   "source": [
    "res = pd.DataFrame({\n",
    "    \"id\": test_ids,\n",
    "    \"emotion\": total_pred\n",
    "})\n",
    "\n",
    "# save result\n",
    "res.to_csv('./result.csv')"
   ]
  },
  {
   "cell_type": "code",
   "execution_count": 47,
   "id": "e8R4lQHVCBw7",
   "metadata": {
    "colab": {
     "base_uri": "https://localhost:8080/",
     "height": 206
    },
    "id": "e8R4lQHVCBw7",
    "outputId": "faff301f-f093-4052-be5c-565adba85ffd"
   },
   "outputs": [
    {
     "data": {
      "text/html": [
       "<div>\n",
       "<style scoped>\n",
       "    .dataframe tbody tr th:only-of-type {\n",
       "        vertical-align: middle;\n",
       "    }\n",
       "\n",
       "    .dataframe tbody tr th {\n",
       "        vertical-align: top;\n",
       "    }\n",
       "\n",
       "    .dataframe thead th {\n",
       "        text-align: right;\n",
       "    }\n",
       "</style>\n",
       "<table border=\"1\" class=\"dataframe\">\n",
       "  <thead>\n",
       "    <tr style=\"text-align: right;\">\n",
       "      <th></th>\n",
       "      <th>id</th>\n",
       "      <th>emotion</th>\n",
       "    </tr>\n",
       "  </thead>\n",
       "  <tbody>\n",
       "    <tr>\n",
       "      <th>0</th>\n",
       "      <td>0x28cc61</td>\n",
       "      <td>4</td>\n",
       "    </tr>\n",
       "    <tr>\n",
       "      <th>1</th>\n",
       "      <td>0x2db41f</td>\n",
       "      <td>4</td>\n",
       "    </tr>\n",
       "    <tr>\n",
       "      <th>2</th>\n",
       "      <td>0x2466f6</td>\n",
       "      <td>4</td>\n",
       "    </tr>\n",
       "    <tr>\n",
       "      <th>3</th>\n",
       "      <td>0x23f9e9</td>\n",
       "      <td>4</td>\n",
       "    </tr>\n",
       "    <tr>\n",
       "      <th>4</th>\n",
       "      <td>0x1fb4e1</td>\n",
       "      <td>4</td>\n",
       "    </tr>\n",
       "  </tbody>\n",
       "</table>\n",
       "</div>"
      ],
      "text/plain": [
       "         id  emotion\n",
       "0  0x28cc61        4\n",
       "1  0x2db41f        4\n",
       "2  0x2466f6        4\n",
       "3  0x23f9e9        4\n",
       "4  0x1fb4e1        4"
      ]
     },
     "execution_count": 47,
     "metadata": {},
     "output_type": "execute_result"
    }
   ],
   "source": [
    "res.head(5)"
   ]
  }
 ],
 "metadata": {
  "accelerator": "GPU",
  "colab": {
   "collapsed_sections": [
    "sAaBnWzTXyQ_",
    "6Y3gm_UxqEr1",
    "ioYB1sE_XyRA",
    "c-1_Rgd2-jU-",
    "le1XiOWDXyRE",
    "IJpQ20GSZOoV",
    "hZi5P4H5d0er",
    "4QTsH978XyRG",
    "nMZ8wEyjab68",
    "A6GLT9fOXyRJ"
   ],
   "gpuType": "T4",
   "include_colab_link": true,
   "provenance": []
  },
  "kernelspec": {
   "display_name": "Python 3",
   "name": "python3"
  },
  "language_info": {
   "codemirror_mode": {
    "name": "ipython",
    "version": 3
   },
   "file_extension": ".py",
   "mimetype": "text/x-python",
   "name": "python",
   "nbconvert_exporter": "python",
   "pygments_lexer": "ipython3",
   "version": "3.11.9"
  }
 },
 "nbformat": 4,
 "nbformat_minor": 5
}
